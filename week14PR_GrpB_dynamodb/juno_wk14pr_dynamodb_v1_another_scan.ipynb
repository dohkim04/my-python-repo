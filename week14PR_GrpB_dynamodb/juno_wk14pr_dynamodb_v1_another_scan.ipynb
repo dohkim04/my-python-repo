{
 "cells": [
  {
   "cell_type": "code",
   "execution_count": 1,
   "id": "8fca86f8",
   "metadata": {},
   "outputs": [],
   "source": [
    "import boto3"
   ]
  },
  {
   "cell_type": "code",
   "execution_count": 2,
   "id": "1744fb4f",
   "metadata": {},
   "outputs": [],
   "source": [
    "dynamodb = boto3.resource('dynamodb', aws_access_key_id='XXXXXXXXXXXXXXXXXXXX', \n",
    "            aws_secret_access_key='YYYYYYYYYYYYYYYYYYYYYYYYYYYYYYYYYYYYYYYY',)"
   ]
  },
  {
   "cell_type": "code",
   "execution_count": 4,
   "id": "242afa0a",
   "metadata": {},
   "outputs": [
    {
     "name": "stdout",
     "output_type": "stream",
     "text": [
      "\"{dynamodb}\" is now being created as a DynamoDB resource object.\n",
      "\n"
     ]
    }
   ],
   "source": [
    "print('\"{dynamodb}\" is now being created as a DynamoDB resource object.\\n')"
   ]
  },
  {
   "cell_type": "code",
   "execution_count": 5,
   "id": "b0ca5f8b",
   "metadata": {},
   "outputs": [
    {
     "name": "stdout",
     "output_type": "stream",
     "text": [
      "0\n",
      "The date and time of creating this table: 2023-04-18 01:03:32.648000-04:00\n",
      "===============\n",
      "\n"
     ]
    }
   ],
   "source": [
    "table = dynamodb.create_table(\n",
    "    TableName = 'MyMovieList',\n",
    "    AttributeDefinitions=[\n",
    "        {'AttributeName': 'rank_id','AttributeType': 'S'},{'AttributeName': 'genre',  'AttributeType': 'S'},    \n",
    "        {'AttributeName': 'title',  'AttributeType': 'S'},{'AttributeName': 'year',   'AttributeType': 'S'},],\n",
    "    KeySchema = [{'AttributeName': 'rank_id', 'KeyType': 'HASH'},{'AttributeName': 'genre'  ,'KeyType': 'RANGE'},],\n",
    "    GlobalSecondaryIndexes=[{'IndexName': 'new_search',\n",
    "        'KeySchema': [{'AttributeName': 'year', 'KeyType': 'HASH'},{'AttributeName': 'title','KeyType': 'RANGE'},],\n",
    "        'Projection': {'ProjectionType': 'INCLUDE', 'NonKeyAttributes': ['rank_id','genre']},\n",
    "        'ProvisionedThroughput':{'ReadCapacityUnits': 5, 'WriteCapacityUnits': 5},}],    \n",
    "    ProvisionedThroughput={'ReadCapacityUnits': 5,'WriteCapacityUnits': 5},\n",
    "    Tags=[{'Key': 'Project 9', 'Value': 'Group B - DynamoDB project'},],\n",
    ")\n",
    "table.wait_until_exists() # Wait until the table exists.\n",
    "print(table.item_count)   # Print the counting number of items\n",
    "print(f\"The date and time of creating this table: {table.creation_date_time}\")\n",
    "print(\"===============\\n\")"
   ]
  },
  {
   "cell_type": "code",
   "execution_count": 6,
   "id": "09364a83",
   "metadata": {},
   "outputs": [
    {
     "name": "stdout",
     "output_type": "stream",
     "text": [
      "The following movie list will be added to MyMovieList table:\n",
      "[{'rank_id': '2', 'genre': 'Drama', 'title': 'The God Father', 'year': '1972'}, {'rank_id': '6', 'genre': 'Romance', 'title': 'Gone with the Wind', 'year': '1939'}, {'rank_id': '8', 'genre': 'Drama', 'title': \" Schindler's List\", 'year': '1993'}, {'rank_id': '10', 'genre': 'Musical', 'title': ' The Wizard of Oz', 'year': '1939'}, {'rank_id': '15', 'genre': 'Adventure', 'title': 'Star Wars', 'year': '1977'}, {'rank_id': '40', 'genre': 'Musical', 'title': 'The Sound of Music', 'year': '1965'}, {'rank_id': '41', 'genre': 'Adventure', 'title': 'King Kong', 'year': '1933'}, {'rank_id': '57', 'genre': 'Drama', 'title': 'Rocky', 'year': '1976'}, {'rank_id': '74', 'genre': 'Drama', 'title': 'The Silence of the Lambs', 'year': '1991'}, {'rank_id': '100', 'genre': 'Epic', 'title': 'Ben-Hur', 'year': '1959'}]\n"
     ]
    }
   ],
   "source": [
    "import csv             # import a 'cvs' Python library to access to CSV files.\n",
    "entire_movie_list=[]   # Initialize as an empty list.\n",
    "eachRow=[]             # eachRow list will consist of 3 items; Rank_ID, Title, and Year.\n",
    "with open('movie_table.csv', newline='') as csvfile:    # open movie_table.csv file and read by each entire new line, \n",
    "                                                        # then designate it as an csvfile object.\n",
    "    fileReader = csv.reader(csvfile, delimiter= \",\", quotechar = None)  # See comma delimiter as a separator \n",
    "                                                                        # to recognize individual items\n",
    "    for eachRow in fileReader:  # eachRow is assigned to each new line  \n",
    "        Item={}                 # Reinitizlie as empty dictionary per each new line\n",
    "        # Add 3 individual items per each movie below:\n",
    "        Item['rank_id'] = eachRow[0]\n",
    "        Item['genre'] = eachRow[1]\n",
    "        Item['title'] = eachRow[2]\n",
    "        Item['year'] = eachRow[3]\n",
    "        entire_movie_list.append(Item) # Add each movie dictionary to the entire movie list\n",
    "    print(f\"The following movie list will be added to MyMovieList table:\\n{entire_movie_list}\")\n"
   ]
  },
  {
   "cell_type": "code",
   "execution_count": 7,
   "id": "316d709a",
   "metadata": {},
   "outputs": [
    {
     "name": "stdout",
     "output_type": "stream",
     "text": [
      "Completed to add all your movie dictionaries to your DynamoDB table...\n",
      "The number of your table items: 0\n",
      "The entire table below:\n",
      "dynamodb.Table(name='MyMovieList')\n"
     ]
    }
   ],
   "source": [
    "import boto3\n",
    "dynamodb = boto3.resource('dynamodb') # Get the service resource.\n",
    "table = dynamodb.Table('MyMovieList') # call your MyMovieList DynamoDB table\n",
    "# add a list of 10 movie dictionaries to MyMovieList DynamoDB table.\n",
    "for i in range(len(entire_movie_list)):\n",
    "    table.put_item(Item=entire_movie_list[i])\n",
    "print(\"Completed to add all your movie dictionaries to your DynamoDB table...\")\n",
    "print(f\"The number of your table items: {table.item_count}\")\n",
    "print(f\"The entire table below:\\n{table}\")\n"
   ]
  },
  {
   "cell_type": "code",
   "execution_count": 8,
   "id": "e72990c8",
   "metadata": {},
   "outputs": [
    {
     "name": "stdout",
     "output_type": "stream",
     "text": [
      "[{'rank_id': {'N': '8'}, 'year': {'N': '1993'}, 'genre': {'S': 'Drama'}, 'title': {'S': \" Schindler's List\"}}, {'rank_id': {'N': '2'}, 'year': {'N': '1972'}, 'genre': {'S': 'Drama'}, 'title': {'S': 'The God Father'}}, {'rank_id': {'N': '57'}, 'year': {'N': '1976'}, 'genre': {'S': 'Drama'}, 'title': {'S': 'Rocky'}}, {'rank_id': {'N': '74'}, 'year': {'N': '1991'}, 'genre': {'S': 'Drama'}, 'title': {'S': 'The Silence of the Lambs'}}]\n"
     ]
    }
   ],
   "source": [
    "import boto3\n",
    "from boto3.dynamodb.conditions import Key, Attr\n",
    "dynamodb = boto3.client('dynamodb') # Get the service resource.\n",
    "#table = dynamodb.Table('MyMovieList') # call your MyMovieList DynamoDB table\n",
    "response = dynamodb.scan(\n",
    "    ExpressionAttributeNames={\n",
    "        '#RI':'rank_id', '#G': 'genre', '#T': 'title', '#Y': 'year'},\n",
    "    ExpressionAttributeValues={\n",
    "        ':alldrama': {'S': 'Drama',}, \n",
    "    },\n",
    "    FilterExpression='genre = :alldrama',\n",
    "    ProjectionExpression='#T, #Y, #RI, #G',     \n",
    "    TableName = 'MyMovieList'\n",
    ")\n",
    "items = response['Items']\n",
    "print(items)"
   ]
  }
 ],
 "metadata": {
  "kernelspec": {
   "display_name": "Python 3 (ipykernel)",
   "language": "python",
   "name": "python3"
  },
  "language_info": {
   "codemirror_mode": {
    "name": "ipython",
    "version": 3
   },
   "file_extension": ".py",
   "mimetype": "text/x-python",
   "name": "python",
   "nbconvert_exporter": "python",
   "pygments_lexer": "ipython3",
   "version": "3.10.6"
  }
 },
 "nbformat": 4,
 "nbformat_minor": 5
}
